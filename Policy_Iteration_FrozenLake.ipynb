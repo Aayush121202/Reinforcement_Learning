{
  "nbformat": 4,
  "nbformat_minor": 0,
  "metadata": {
    "colab": {
      "provenance": [],
      "authorship_tag": "ABX9TyOKW4xKskAu/XowRziceGMD",
      "include_colab_link": true
    },
    "kernelspec": {
      "name": "python3",
      "display_name": "Python 3"
    },
    "language_info": {
      "name": "python"
    }
  },
  "cells": [
    {
      "cell_type": "markdown",
      "metadata": {
        "id": "view-in-github",
        "colab_type": "text"
      },
      "source": [
        "<a href=\"https://colab.research.google.com/github/Aayush121202/Reinforcement_Learning/blob/main/Policy_Iteration_FrozenLake.ipynb\" target=\"_parent\"><img src=\"https://colab.research.google.com/assets/colab-badge.svg\" alt=\"Open In Colab\"/></a>"
      ]
    },
    {
      "cell_type": "code",
      "source": [
        "import numpy as np\n",
        "import gym\n",
        "\n",
        "def eval_state_action(V, s, a, gamma=0.99):\n",
        "    return np.sum([p * (rew + gamma*V[next_s]) for p, next_s, rew, _ in env.P[s][a]])\n",
        "\n",
        "def policy_evaluation(V, policy, eps=0.0001):\n",
        "    '''\n",
        "    Policy evaluation. Update the value function until it reach a steady state\n",
        "    '''\n",
        "    while True:\n",
        "        delta = 0\n",
        "        # loop over all states\n",
        "        for s in range(nS):\n",
        "            old_v = V[s]\n",
        "            # update V[s] using the Bellman equation\n",
        "            V[s] = eval_state_action(V, s, policy[s])\n",
        "            delta = max(delta, np.abs(old_v - V[s]))\n",
        "\n",
        "        if delta < eps:\n",
        "            break\n",
        "\n",
        "def policy_improvement(V, policy):\n",
        "    '''\n",
        "    Policy improvement. Update the policy based on the value function\n",
        "    '''\n",
        "    policy_stable = True\n",
        "    for s in range(nS):\n",
        "        old_a = policy[s]\n",
        "        # update the policy with the action that bring to the highest state value\n",
        "        policy[s] = np.argmax([eval_state_action(V, s, a) for a in range(nA)])\n",
        "        if old_a != policy[s]:\n",
        "            policy_stable = False\n",
        "\n",
        "    return policy_stable\n",
        "\n",
        "\n",
        "def run_episodes(env, policy, num_games=100):\n",
        "    '''\n",
        "    Run some games to test a policy\n",
        "    '''\n",
        "    tot_rew = 0\n",
        "    state = env.reset()\n",
        "\n",
        "    for _ in range(num_games):\n",
        "        done = False\n",
        "        while not done:\n",
        "            # select the action accordingly to the policy\n",
        "#             print(env.step(policy[state]))\n",
        "#             break\n",
        "            next_state, reward, done,_,_ = env.step(policy[state])\n",
        "\n",
        "            state = next_state\n",
        "            tot_rew += reward\n",
        "            if done:\n",
        "                state = env.reset()\n",
        "\n",
        "    print('Won %i of %i games!'%(tot_rew, num_games))"
      ],
      "metadata": {
        "id": "C4xit9nreO7D"
      },
      "execution_count": 5,
      "outputs": []
    },
    {
      "cell_type": "code",
      "source": [
        "# create the environment\n",
        "env = gym.make('FrozenLake-v1')\n",
        "# enwrap it to have additional information from it\n",
        "env = env.unwrapped\n",
        "\n",
        "# spaces dimension\n",
        "nA = env.action_space.n\n",
        "nS = env.observation_space.n\n",
        "\n",
        "# initializing value function and policy\n",
        "V = np.zeros(nS)\n",
        "policy = np.zeros(nS)\n",
        "\n",
        "# some useful variable\n",
        "policy_stable = False\n",
        "it = 0\n",
        "\n",
        "while not policy_stable:\n",
        "        policy_evaluation(V, policy)\n",
        "        policy_stable = policy_improvement(V, policy)\n",
        "        it += 1\n",
        "\n",
        "print('Converged after %i policy iterations'%(it))\n",
        "run_episodes(env, policy)\n",
        "print(V.reshape((4,4)))\n",
        "print(policy.reshape((4,4)))"
      ],
      "metadata": {
        "colab": {
          "base_uri": "https://localhost:8080/"
        },
        "id": "sMuLt8gieZDN",
        "outputId": "8f61e415-d23f-48e1-a8cd-303a6974f3d1"
      },
      "execution_count": 7,
      "outputs": [
        {
          "output_type": "stream",
          "name": "stdout",
          "text": [
            "Converged after 7 policy iterations\n",
            "Won 82 of 100 games!\n",
            "[[0.54091157 0.49730529 0.46893217 0.4549538 ]\n",
            " [0.55745963 0.         0.35758788 0.        ]\n",
            " [0.59098844 0.64249454 0.61469305 0.        ]\n",
            " [0.         0.74131715 0.86263385 0.        ]]\n",
            "[[0. 3. 3. 3.]\n",
            " [0. 0. 0. 0.]\n",
            " [3. 1. 0. 0.]\n",
            " [0. 2. 1. 0.]]\n"
          ]
        }
      ]
    }
  ]
}