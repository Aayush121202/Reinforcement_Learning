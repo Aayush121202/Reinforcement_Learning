{
  "nbformat": 4,
  "nbformat_minor": 0,
  "metadata": {
    "colab": {
      "provenance": []
    },
    "kernelspec": {
      "name": "python3",
      "display_name": "Python 3"
    },
    "language_info": {
      "name": "python"
    }
  },
  "cells": [
    {
      "cell_type": "code",
      "execution_count": 1,
      "metadata": {
        "id": "r-bEkg4xSrFU"
      },
      "outputs": [],
      "source": [
        "import numpy as np"
      ]
    },
    {
      "cell_type": "code",
      "source": [
        "grid= np.zeros((5,5))\n",
        "grid"
      ],
      "metadata": {
        "colab": {
          "base_uri": "https://localhost:8080/"
        },
        "id": "1jMK_6YISytC",
        "outputId": "d9dab261-ea2a-4bf0-c647-853f88256dae"
      },
      "execution_count": 2,
      "outputs": [
        {
          "output_type": "execute_result",
          "data": {
            "text/plain": [
              "array([[0., 0., 0., 0., 0.],\n",
              "       [0., 0., 0., 0., 0.],\n",
              "       [0., 0., 0., 0., 0.],\n",
              "       [0., 0., 0., 0., 0.],\n",
              "       [0., 0., 0., 0., 0.]])"
            ]
          },
          "metadata": {},
          "execution_count": 2
        }
      ]
    },
    {
      "cell_type": "code",
      "source": [
        "Y = .90  #discount value\n",
        "for num in range(10): #number of times we will go through the whole grid\n",
        "  for i in range(5):      #all the rows\n",
        "    for j in range(5):    #all the columns\n",
        "\n",
        "      up_grid = grid[i-1][j] if i > 0 else None   #if going up takes us out of the grid then its value be 0\n",
        "      down_grid = grid[i+1][j] if i < 4 else None  #if going down takes us out of the grid then its value be 0\n",
        "      left_grid = grid[i][j-1] if j > 0 else None  #if going left takes us out of the grid then its value be 0\n",
        "      right_grid = grid[i][j+1] if j < 4 else None  #if going right takes us out of the grid then its value be 0\n",
        "\n",
        "      all_dirs = [up_grid, down_grid, left_grid, right_grid]\n",
        "\n",
        "      value=0\n",
        "      if i==0 and j==1: # the position of A\n",
        "        value = 10 + Y*grid[4][1]\n",
        "      elif i==0 and j==3: # the position of B\n",
        "        value = 5 + Y*grid[2][3]\n",
        "      else:\n",
        "        for direc in all_dirs:\n",
        "          if direc != None:\n",
        "            value += .25 * (0 + Y*direc)  #if we don't go out of the grid\n",
        "          else:\n",
        "            value += .25 * (-1 + Y*grid[i][j]) #if we go out of the grid\n",
        "\n",
        "      grid[i][j] = value\n",
        "\n",
        "np.round(grid, 1)"
      ],
      "metadata": {
        "id": "1yErKtglTUBI",
        "colab": {
          "base_uri": "https://localhost:8080/"
        },
        "outputId": "5e74d1f4-911a-4c30-e458-a53a81c90aac"
      },
      "execution_count": 4,
      "outputs": [
        {
          "output_type": "execute_result",
          "data": {
            "text/plain": [
              "array([[ 3.4,  8.9,  4.5,  5.4,  1.6],\n",
              "       [ 1.6,  3.1,  2.4,  2. ,  0.6],\n",
              "       [ 0.2,  0.9,  0.8,  0.5, -0.3],\n",
              "       [-0.8, -0.3, -0.2, -0.5, -1.1],\n",
              "       [-1.7, -1.2, -1.1, -1.3, -1.9]])"
            ]
          },
          "metadata": {},
          "execution_count": 4
        }
      ]
    }
  ]
}