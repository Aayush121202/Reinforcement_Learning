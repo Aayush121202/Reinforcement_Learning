{
  "nbformat": 4,
  "nbformat_minor": 0,
  "metadata": {
    "colab": {
      "provenance": [],
      "authorship_tag": "ABX9TyM286UrNHREgJCjcRsYYAtl",
      "include_colab_link": true
    },
    "kernelspec": {
      "name": "python3",
      "display_name": "Python 3"
    },
    "language_info": {
      "name": "python"
    }
  },
  "cells": [
    {
      "cell_type": "markdown",
      "metadata": {
        "id": "view-in-github",
        "colab_type": "text"
      },
      "source": [
        "<a href=\"https://colab.research.google.com/github/Aayush121202/Reinforcement_Learning/blob/main/Windy_Gridworld.ipynb\" target=\"_parent\"><img src=\"https://colab.research.google.com/assets/colab-badge.svg\" alt=\"Open In Colab\"/></a>"
      ]
    },
    {
      "cell_type": "code",
      "execution_count": 1,
      "metadata": {
        "id": "BVfjoHLbpi5w"
      },
      "outputs": [],
      "source": [
        "import numpy as np # linear algebra\n",
        "import pandas as pd # data processing, CSV file I/O (e.g. pd.read_csv)\n",
        "\n",
        "import pylab as pl\n",
        "import matplotlib.pyplot as plt\n",
        "import time # We will use this to time our experiments for various observations\n",
        "\n",
        "%matplotlib inline"
      ]
    },
    {
      "cell_type": "code",
      "source": [
        "class gridWorld(object):\n",
        "\n",
        "    def __init__(self):\n",
        "        super(gridWorld, self).__init__()\n",
        "        self.start = 0\n",
        "        self.goal = 0\n",
        "        # Provide the setting of gridWorld rows and columns\n",
        "        self.row = 7\n",
        "        self.col = 10\n",
        "        self.x_max = self.col - 1\n",
        "        self.y_max = self.row - 1\n",
        "        # Declare windy columns and their effect\n",
        "        self.wind_1 = [3, 4, 5, 8]\n",
        "        self.wind_2 = [6, 7]\n",
        "        # Provide action list : Up/Down/Left/Right\n",
        "        self.actions_list = ['N', 'E', 'S', 'W']\n",
        "\n",
        "    def cell(self,pos):\n",
        "        return pos[1] + self.col * pos[0]\n",
        "\n",
        "    def setTerminal(self, startState, goalState):\n",
        "        # startState and goalState are tuples\n",
        "        self.start = self.cell(startState)\n",
        "        self.goal = self.cell(goalState)\n",
        "\n",
        "    def nextState(self, state, action):\n",
        "        # The \"state\" parameter is an integer that represents position in grid\n",
        "        x = state % self.col\n",
        "        y = (state - x) / self.col\n",
        "        # Now let's define and interpret actions\n",
        "        del_x = 0\n",
        "        del_y = 0\n",
        "        if action == 'E':\n",
        "            del_x = 1\n",
        "        elif action == 'W':\n",
        "            del_x = -1\n",
        "        elif action == 'N':\n",
        "            del_y = -1\n",
        "        elif action == 'S':\n",
        "            del_y = 1\n",
        "        else:\n",
        "            raise('Invalid action! Actions taken must be in: ',self.actions_list)\n",
        "        # Now move to new position\n",
        "        new_x = max(0, min(x + del_x, self.x_max))\n",
        "        new_y = max(0, min(y + del_y, self.y_max))\n",
        "        # When wind blows to a new state\n",
        "        if new_x in self.wind_1:\n",
        "            new_y = max(0, new_y - 1)\n",
        "        if new_x in self.wind_2:\n",
        "            new_y = max(0, new_y - 2)\n",
        "        # now let's return these new state values\n",
        "        return self.cell((new_y,new_x))\n",
        "\n",
        "    def checkTerminal(self, state):\n",
        "        return state == self.goal\n",
        "\n",
        "    def rewardFunction(self, state_prime):\n",
        "        # When it reaches goal state then reward is 0 else all actions should yield -1\n",
        "        if state_prime == self.goal:\n",
        "            return 0\n",
        "        else:\n",
        "            return -1\n",
        "\n",
        "\n",
        "def trajectoryPath(world, traj):\n",
        "    # Initialize gridworld\n",
        "    world_map = np.zeros((world.row, world.col))\n",
        "    for i,state in enumerate(traj):\n",
        "        x = int(state % world.col)\n",
        "        y = int((state - x) / world.col)\n",
        "        world_map[y, x] = i + 1\n",
        "    print(world_map)\n",
        "    print(\"\\n\")"
      ],
      "metadata": {
        "id": "DI4crnNhplp_"
      },
      "execution_count": 2,
      "outputs": []
    },
    {
      "cell_type": "code",
      "source": [
        "def gridWorld_SARSA(world, startState, goalState, alpha=0.1, gamma=1, epsilon=0.1):\n",
        "    # Consider input parameters:\n",
        "    # gamma = 1 as discounted factor\n",
        "    # default values of alpha and epsilon considered, it will be changed for multiple analysis\n",
        "    world.setTerminal(startState, goalState)\n",
        "    # Initialize Q(s,a)\n",
        "    q_table = {}\n",
        "    for state in range(world.row * world.col):\n",
        "        q_table[state] = {}\n",
        "        for act in world.actions_list:\n",
        "            q_table[state][act] = 0\n",
        "\n",
        "    # function for greedy action\n",
        "    def epsGreedy(episode, q_dict):\n",
        "        def greedyAct(_q_dict):\n",
        "            greedy_act = ''\n",
        "            max_q = -1e10\n",
        "            for act in world.actions_list:\n",
        "                if _q_dict[act] > max_q:\n",
        "                    greedy_act = act\n",
        "                    max_q = _q_dict[act]\n",
        "            return greedy_act\n",
        "\n",
        "        m = len(world.actions_list)\n",
        "        greedy_act = greedyAct(q_dict)\n",
        "        p = []\n",
        "        for act in world.actions_list:\n",
        "            if act == greedy_act:\n",
        "                p.append((epsilon * 1. / m) + 1 - epsilon)\n",
        "            else:\n",
        "                p.append(epsilon * 1. / m)\n",
        "        choice = np.random.choice(world.actions_list,size = 1, p = p)\n",
        "        return choice[0]\n",
        "\n",
        "    ep = 1 # Episode number\n",
        "    ep_max = 300 # number of max episodes\n",
        "    step_ep_list = []\n",
        "    step = 0\n",
        "    while ep < ep_max:\n",
        "        #print(\"Episode: \", ep)\n",
        "        # Initialize state\n",
        "        state = world.cell(startState)\n",
        "        trajectory = [state]\n",
        "        # Choose action from state\n",
        "        act = epsGreedy(ep, q_table[state])\n",
        "        while not world.checkTerminal(state):\n",
        "            state_prime = world.nextState(state, act)\n",
        "            reward = world.rewardFunction(state_prime)\n",
        "            act_prime = epsGreedy(ep, q_table[state_prime])\n",
        "            q_table[state][act] += alpha * (reward + gamma * q_table[state_prime][act_prime] - q_table[state][act])\n",
        "            state = state_prime\n",
        "            act = act_prime\n",
        "            # Increase Step Counter\n",
        "            step += 1\n",
        "            # Store the index of the episode of this time step\n",
        "            step_ep_list.append(ep)\n",
        "            # Update the trajectory\n",
        "            trajectory.append(state)\n",
        "\n",
        "        if ep == (ep_max - 1):\n",
        "            trajectoryPath(world, trajectory)\n",
        "        # Increase the episode counter\n",
        "        ep += 1\n",
        "\n",
        "    start_time = time.time()\n",
        "    plt.plot(step_ep_list)\n",
        "    print(\"Time elapsed is (in Secs): \", time.time() - start_time)\n",
        "    plt.title('WindyGridWorld_SARSA ', fontsize = 'large')\n",
        "    plt.xlabel(\"Number of Steps taken\")\n",
        "    plt.ylabel(\"Number of Episodes\")\n",
        "    plt.show()"
      ],
      "metadata": {
        "id": "RoeRW7L9rDJg"
      },
      "execution_count": 3,
      "outputs": []
    },
    {
      "cell_type": "code",
      "source": [
        "if __name__ == '__main__':\n",
        "    startState = (3, 0)\n",
        "    goalState = (3, 7)\n",
        "    world = gridWorld()\n",
        "    print(\"Plot for Option: ∈=0.1,α=0.5 \\n\")\n",
        "    gridWorld_SARSA(world, startState, goalState, alpha=0.5, epsilon=0.1)"
      ],
      "metadata": {
        "colab": {
          "base_uri": "https://localhost:8080/",
          "height": 680
        },
        "id": "0DNqSirirdgV",
        "outputId": "d88ffae7-7499-4e49-cdb7-7f20019894ef"
      },
      "execution_count": 4,
      "outputs": [
        {
          "output_type": "stream",
          "name": "stdout",
          "text": [
            "Plot for Option: ∈=0.1,α=0.5 \n",
            "\n",
            "[[ 6.  0.  0. 10. 11. 12. 13. 14. 16. 17.]\n",
            " [ 7.  8.  9.  0.  0.  0.  0.  0.  0. 18.]\n",
            " [ 2.  0.  0.  0.  0.  0.  0.  0.  0. 19.]\n",
            " [ 1.  0.  0.  0.  0.  0.  0. 40. 25. 26.]\n",
            " [ 0.  0.  0.  0.  0.  0.  0.  0.  0. 36.]\n",
            " [ 0.  0.  0.  0.  0.  0.  0.  0. 39. 37.]\n",
            " [ 0.  0.  0.  0.  0.  0.  0.  0.  0. 38.]]\n",
            "\n",
            "\n",
            "Time elapsed is (in Secs):  0.02170419692993164\n"
          ]
        },
        {
          "output_type": "display_data",
          "data": {
            "text/plain": [
              "<Figure size 640x480 with 1 Axes>"
            ],
            "image/png": "[encoded data removed]"
          },
          "metadata": {}
        }
      ]
    }
  ]
}